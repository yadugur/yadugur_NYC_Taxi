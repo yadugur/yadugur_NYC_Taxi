{
 "cells": [
  {
   "cell_type": "code",
   "execution_count": 22,
   "id": "6f645eb4",
   "metadata": {},
   "outputs": [],
   "source": [
    "import csv\n",
    "import datetime\n",
    "import matplotlib.pylab as plt\n",
    "#Read the input data file\n",
    "\n",
    "f = open('trip_data_3.csv', 'r')\n",
    "data = csv.reader(f)"
   ]
  },
  {
   "cell_type": "code",
   "execution_count": 3,
   "id": "77e2a29c",
   "metadata": {},
   "outputs": [
    {
     "name": "stdout",
     "output_type": "stream",
     "text": [
      "['medallion', ' hack_license', ' vendor_id', ' rate_code', ' store_and_fwd_flag', ' pickup_datetime', ' dropoff_datetime', ' passenger_count', ' trip_time_in_secs', ' trip_distance', ' pickup_longitude', ' pickup_latitude', ' dropoff_longitude', ' dropoff_latitude']\n"
     ]
    }
   ],
   "source": [
    "n=0\n",
    "for row in data:\n",
    "    if n>0:\n",
    "        break\n",
    "    else:\n",
    "        print(row)\n",
    "    n+=1\n"
   ]
  },
  {
   "cell_type": "code",
   "execution_count": 4,
   "id": "52541f62",
   "metadata": {},
   "outputs": [
    {
     "name": "stdout",
     "output_type": "stream",
     "text": [
      "The datetime range varies from 2013-03-01 00:00:00 to 2013-04-01 01:16:32\n",
      "The number of rows in the file are 15749227\n"
     ]
    }
   ],
   "source": [
    "#Question 1\n",
    "min_datetime='2013-03-01 00:00:18'\n",
    "max_datetime='2013-03-01 00:00:18'\n",
    "no_of_rows=0\n",
    "for i in data:\n",
    "    if i[5]<min_datetime:\n",
    "        min_datetime=i[5]\n",
    "    if i[6]>max_datetime:\n",
    "        max_datetime=i[6]\n",
    "    no_of_rows=no_of_rows+1\n",
    "print(f'The datetime range varies from {min_datetime} to {max_datetime}')\n",
    "print(f\"The number of rows in the file are {no_of_rows}\")"
   ]
  },
  {
   "cell_type": "code",
   "execution_count": 5,
   "id": "7ca88970",
   "metadata": {},
   "outputs": [],
   "source": [
    "# Question 3\n",
    "n=0\n",
    "for row in data:\n",
    "    if n%100000==0:\n",
    "        print (row)\n",
    "        n+=1\n",
    "    else:\n",
    "        n+=1\n",
    "        continue"
   ]
  },
  {
   "cell_type": "code",
   "execution_count": 6,
   "id": "33cf1f57",
   "metadata": {},
   "outputs": [
    {
     "name": "stdout",
     "output_type": "stream",
     "text": [
      "The min and max of long is -73.913925 and -73.776703\n",
      "The min and max of lat is 40.645164 and 40.772614\n"
     ]
    }
   ],
   "source": [
    "# Question 5\n",
    "\n",
    "min_lat=40.645164\n",
    "max_lat=40.772614\n",
    "min_lon=-73.913925\n",
    "max_lon=-73.776703\n",
    "\n",
    "for row in data:\n",
    "    try:\n",
    "        if float(row[10]) < min_lon:\n",
    "            min_lon = row[10]\n",
    "        if float(row[12]) < min_lon:\n",
    "            min_lon = row[12]\n",
    "        if float(row[12]) > max_lon:\n",
    "            max_lon = row[12]\n",
    "        if float(row[12]) > max_lon:\n",
    "            max_lon = row[12]\n",
    "        if float(row[11]) < min_lat:\n",
    "            min_lat = row[11]\n",
    "        if float(row[13]) < min_lat:\n",
    "            min_lat = row[13]\n",
    "        if float(row[11]) > max_lat:\n",
    "            max_lat = row[11]\n",
    "        if float(row[13]) > max_lat:\n",
    "            max_lat = row[13]\n",
    "    except Exception as e:\n",
    "        continue\n",
    "print(f\"The min and max of long is {min_lon} and {max_lon}\")\n",
    "print(f\"The min and max of lat is {min_lat} and {max_lat}\")"
   ]
  },
  {
   "cell_type": "code",
   "execution_count": 7,
   "id": "ef21df9c",
   "metadata": {},
   "outputs": [],
   "source": [
    "# Question 6\n",
    "from math import radians, cos, sin, asin, sqrt\n",
    "\n",
    "def haversine_distance(lat1, lon1, lat2, lon2):\n",
    "\n",
    "\n",
    "    R = 3959.87433 # this is in miles.  For Earth radius in kilometers use 6372.8 km\n",
    "\n",
    "    dLat = radians(lat2 - lat1)\n",
    "    dLon = radians(lon2 - lon1)\n",
    "    lat1 = radians(lat1)\n",
    "    lat2 = radians(lat2)\n",
    "\n",
    "    a = sin(dLat/2)**2 + cos(lat1)*cos(lat2)*sin(dLon/2)**2\n",
    "    c = 2*asin(sqrt(a))\n",
    "\n",
    "    return R * c"
   ]
  },
  {
   "cell_type": "code",
   "execution_count": 8,
   "id": "aa668a56",
   "metadata": {},
   "outputs": [
    {
     "name": "stdout",
     "output_type": "stream",
     "text": [
      "The average trip distance calculated is 14.119779173262613\n"
     ]
    }
   ],
   "source": [
    "lon1 = -73.987343\n",
    "lat1 = 40.645164\n",
    "lon2 = -73.776703\n",
    "lat2 = 40.772614\n",
    "print('The average trip distance calculated is '+str(haversine_distance(lat1, lon1, lat2, lon2)))"
   ]
  },
  {
   "cell_type": "code",
   "execution_count": 9,
   "id": "5aeb90d3",
   "metadata": {},
   "outputs": [
    {
     "name": "stdout",
     "output_type": "stream",
     "text": [
      "{'0-5': 0, '5-10': 0, '10-15': 0, '15-20': 0}\n",
      "[('0-5', 0), ('10-15', 0), ('15-20', 0), ('5-10', 0)]\n",
      "('0-5', '10-15', '15-20', '5-10') (0, 0, 0, 0)\n"
     ]
    }
   ],
   "source": [
    "# Histogram\n",
    "trip_distance={'0-5':0,'5-10':0,'10-15':0,'15-20':0}\n",
    "n=0\n",
    "for row in data:\n",
    "    if n==0:\n",
    "        n+=1\n",
    "        continue\n",
    "    else:\n",
    "        temp=float(row[9])\n",
    "        if (temp>0) and (temp<5):\n",
    "            trip_distance['0-5']+=1\n",
    "        elif (temp>5) and (temp<10):\n",
    "            trip_distance['5-10']+=1\n",
    "        elif (temp>10) and (temp<15):\n",
    "            trip_distance['10-15']+=1\n",
    "        elif (temp>15) and (temp<20):\n",
    "            trip_distance['15-20']+=1\n",
    "print(trip_distance)\n",
    "req_list=trip_distance.items()\n",
    "req_list=sorted(req_list)\n",
    "print (req_list)\n",
    "x, y = zip(*req_list)\n",
    "print (x,y)\n"
   ]
  },
  {
   "cell_type": "code",
   "execution_count": 10,
   "id": "24a7ce38",
   "metadata": {},
   "outputs": [
    {
     "name": "stdout",
     "output_type": "stream",
     "text": [
      "The distinct values in trip time is []\n",
      "The distinct values in no of passengers is []\n",
      "The distinct values in trip distance is []\n"
     ]
    }
   ],
   "source": [
    "# Question 7 \n",
    "\n",
    "trip_time=[]\n",
    "n=0\n",
    "for i in data:\n",
    "    if (i[8] in trip_time)or (n==0):\n",
    "        n=n+1\n",
    "        continue\n",
    "    else:\n",
    "        trip_time.append(i[8])\n",
    "        n=n+1\n",
    "print(f\"The distinct values in trip time is {trip_time}\")\n",
    "\n",
    "No_of_passengers=[]\n",
    "n=0\n",
    "for i in data:\n",
    "    if (i[7] in No_of_passengers)or (n==0):\n",
    "        n=n+1\n",
    "        continue\n",
    "    else:\n",
    "        No_of_passengers.append(i[7])\n",
    "        n=n+1\n",
    "print(f\"The distinct values in no of passengers is {No_of_passengers}\")\n",
    "\n",
    "trip_dist=[]\n",
    "n=0\n",
    "for i in data:\n",
    "    if (i[9] in trip_dist)or (n==0):\n",
    "        n=n+1\n",
    "        continue\n",
    "    else:\n",
    "        trip_dist.append(i[9])\n",
    "        n=n+1\n",
    "print(f\"The distinct values in trip distance is {trip_dist}\")\n",
    "\n",
    "rate_code=[] "
   ]
  },
  {
   "cell_type": "code",
   "execution_count": 11,
   "id": "a97ff48e",
   "metadata": {},
   "outputs": [
    {
     "name": "stdout",
     "output_type": "stream",
     "text": [
      "1 1\n",
      "1 1\n",
      "1 1\n",
      "1 1\n"
     ]
    }
   ],
   "source": [
    "# Question 8 \n",
    "\n",
    "min_passno=1\n",
    "max_passno=1\n",
    "for row in data:\n",
    "    try:\n",
    "        if int(row[7]) < min_passno:\n",
    "            min_passno = int(row[7])\n",
    "        if int(row[7]) > max_passno:\n",
    "            max_passno = int(row[7])\n",
    "    except Exception as e:\n",
    "        continue\n",
    "print(min_passno, max_passno)\n",
    "\n",
    "min_ratecode=1\n",
    "max_ratecode=1\n",
    "for row in data:\n",
    "    try:\n",
    "        if int(row[3]) < min_ratecode:\n",
    "            min_ratecode = int(row[3])\n",
    "        if int(row[3]) > max_ratecode:\n",
    "            max_ratecode = int(row[3])\n",
    "    except Exception as e:\n",
    "        continue\n",
    "print(min_ratecode, max_ratecode)\n",
    "\n",
    "min_triptime=1\n",
    "max_triptime=1\n",
    "for row in data:\n",
    "    try:\n",
    "        if int(row[8]) < min_triptime:\n",
    "            min_triptime = int(row[8])\n",
    "        if int(row[8]) > max_triptime:\n",
    "            max_triptime = int(row[8])\n",
    "    except Exception as e:\n",
    "        continue\n",
    "print(min_triptime, max_triptime)\n",
    "\n",
    "min_tripdist=1\n",
    "max_tripdist=1\n",
    "for row in data:\n",
    "    try:\n",
    "        if int(row[9]) < min_tripdist:\n",
    "            min_triptime = int(row[9])\n",
    "        if int(row[9]) > max_tripdist:\n",
    "            max_triptime = int(row[9])\n",
    "    except Exception as e:\n",
    "        continue\n",
    "print(min_tripdist, max_tripdist)"
   ]
  },
  {
   "cell_type": "code",
   "execution_count": 14,
   "id": "3993ab6a",
   "metadata": {},
   "outputs": [],
   "source": [
    "# Question 9 \n",
    "\n",
    "avg_pass_count = {}\n",
    "n = 0\n",
    "for row in data:\n",
    "    if n == 0:\n",
    "        n += 1\n",
    "        continue\n",
    "    else:\n",
    "        datetimeobj = datetime.datetime.strptime(row[5], \"%Y-%m-%d %H:%M:%S\")\n",
    "        pass_count = int(row[7])\n",
    "        if datetimeobj.hour not in avg_pass_count:\n",
    "            avg_pass_count[datetimeobj.hour] = pass_count\n",
    "        else:\n",
    "            avg_pass_count[datetimeobj.hour] += pass_count\n",
    "\n",
    "# Process and plot the data\n",
    "keys = sorted(avg_pass_count)\n",
    "for i in keys:\n",
    "    print(i, avg_pass_count[i])\n",
    "\n",
    "if avg_pass_count:  # Check if avg_pass_count is not empty\n",
    "    req_list = avg_pass_count.items()\n",
    "    req_list = sorted(req_list)\n",
    "    x, y = zip(*req_list)\n",
    "    y_list = list(y)\n",
    "    y_list = [z / 30 for z in y_list]\n",
    "    y = tuple(y_list)\n",
    "    print(x, y)\n",
    "    plt.plot(x, y)\n",
    "    plt.xlabel('Hour of the day')\n",
    "    plt.ylabel('Passenger count')\n",
    "    plt.title('Chart')\n",
    "    plt.show()\n"
   ]
  },
  {
   "cell_type": "code",
   "execution_count": 18,
   "id": "f728df38",
   "metadata": {},
   "outputs": [],
   "source": [
    "# Question 10 \n",
    "outFile= \"subset_file.csv\"\n",
    "f2 = open(outFile,'w')\n",
    "f2.write(\"\")\n",
    "f2.close()\n",
    "f2 = open(outFile,'a')\n",
    "writer_obj = csv.writer(f2, lineterminator='\\n')\n",
    "n=0\n",
    "for i in data:\n",
    "    if n==999 or n==0:\n",
    "        writer_obj.writerow(i)\n",
    "        n=1\n",
    "    else:\n",
    "        n=n+1\n",
    "\n",
    "f2.close()"
   ]
  },
  {
   "cell_type": "code",
   "execution_count": 21,
   "id": "7787496e",
   "metadata": {},
   "outputs": [],
   "source": [
    "# Question 11\n",
    "avg_pass_count = {}\n",
    "with open('subset_file.csv', 'r') as f3:\n",
    "    data_input = csv.reader(f3)\n",
    "    n = 0\n",
    "    for row in data_input:\n",
    "        if n == 0:\n",
    "            n += 1\n",
    "            continue\n",
    "        else:\n",
    "            datetimeobj = datetime.datetime.strptime(row[5], \"%Y-%m-%d %H:%M:%S\")\n",
    "            pass_count = int(row[7])\n",
    "            if datetimeobj.hour not in avg_pass_count:\n",
    "                avg_pass_count[datetimeobj.hour] = pass_count\n",
    "            else:\n",
    "                avg_pass_count[datetimeobj.hour] += pass_count\n",
    "\n",
    "keys = sorted(avg_pass_count)\n",
    "for i in keys:\n",
    "    print(i, avg_pass_count[i])\n",
    "\n",
    "if avg_pass_count:  # Check if avg_pass_count is not empty\n",
    "    req_list = avg_pass_count.items()\n",
    "    req_list = sorted(req_list)\n",
    "    if req_list:  # Check if req_list is not empty\n",
    "        x, y = zip(*req_list)\n",
    "        y_list = list(y)\n",
    "        y_list = [z / 30 for z in y_list]\n",
    "        y = tuple(y_list)\n",
    "        print(x, y)\n",
    "        plt.plot(x, y)\n",
    "        plt.xlabel('Hour of the day')\n",
    "        plt.ylabel('Passenger count')\n",
    "        plt.title('Chart')\n",
    "        plt.show()\n"
   ]
  },
  {
   "cell_type": "code",
   "execution_count": null,
   "id": "26db242d",
   "metadata": {},
   "outputs": [],
   "source": []
  }
 ],
 "metadata": {
  "kernelspec": {
   "display_name": "Python 3 (ipykernel)",
   "language": "python",
   "name": "python3"
  },
  "language_info": {
   "codemirror_mode": {
    "name": "ipython",
    "version": 3
   },
   "file_extension": ".py",
   "mimetype": "text/x-python",
   "name": "python",
   "nbconvert_exporter": "python",
   "pygments_lexer": "ipython3",
   "version": "3.11.3"
  }
 },
 "nbformat": 4,
 "nbformat_minor": 5
}
